{
  "nbformat": 4,
  "nbformat_minor": 0,
  "metadata": {
    "colab": {
      "provenance": [],
      "authorship_tag": "ABX9TyMxsPNTgUv4StvDwGQEmaEo",
      "include_colab_link": true
    },
    "kernelspec": {
      "name": "python3",
      "display_name": "Python 3"
    },
    "language_info": {
      "name": "python"
    }
  },
  "cells": [
    {
      "cell_type": "markdown",
      "metadata": {
        "id": "view-in-github",
        "colab_type": "text"
      },
      "source": [
        "<a href=\"https://colab.research.google.com/github/ronyk47/learning-py-repo/blob/main/Main_py.ipynb\" target=\"_parent\"><img src=\"https://colab.research.google.com/assets/colab-badge.svg\" alt=\"Open In Colab\"/></a>"
      ]
    },
    {
      "cell_type": "code",
      "execution_count": null,
      "metadata": {
        "colab": {
          "base_uri": "https://localhost:8080/"
        },
        "id": "XG5oouQrahkA",
        "outputId": "69fff765-6786-4454-b2b7-bb4d2a7b090e"
      },
      "outputs": [
        {
          "output_type": "stream",
          "name": "stdout",
          "text": [
            "Enter a number:5\n",
            "Less than 10\n"
          ]
        }
      ],
      "source": [
        "num = int(input(\"Enter a number:\"))\n",
        "\n",
        "if num >= 0:\n",
        "  if num >= 10:\n",
        "    print((\"Greater than 10\"))\n",
        "  else:\n",
        "    print(\"Less than 10\")\n",
        "else:\n",
        "  print(\"Incorrect Input\")\n",
        "\n",
        "  \n",
        "\n",
        "\n"
      ]
    }
  ]
}